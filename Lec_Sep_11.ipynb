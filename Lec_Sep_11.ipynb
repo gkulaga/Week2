{
 "cells": [
  {
   "cell_type": "markdown",
   "metadata": {},
   "source": [
    "## Review"
   ]
  },
  {
   "cell_type": "markdown",
   "metadata": {},
   "source": [
    "How do we declare a variable?  \n",
    "What are types?  \n",
    "Do we really need to specify types when declaring a variable?  \n",
    "How do we check the type of a variable?\n",
    "How do we get an `input` from user and store it in a variable?  \n",
    "What is the type of data that `input` returns?  "
   ]
  },
  {
   "cell_type": "markdown",
   "metadata": {},
   "source": [
    "## Boolean Operators and Expressions\n",
    "\n",
    "When you evaluate an arithmetic expression, you get arithmetic value back. Consider the following expression\n",
    "\n",
    "```python\n",
    "y = x**2 + (3 * x)\n",
    "```\n",
    "\n",
    "If I want to evaluate the value of `y` when `x = 3`, I need to replace `x` in the equation with 3 and solve to get the value of `y`. Here the operators are `**`, `+`, and `*`.\n",
    "\n",
    "\n",
    "In a similar manner, evaluating boolean expressions results in getting boolean values (i.e., `True` or `False`). Boolean expressions are very powerful and can model almost all of decision making process.\n",
    "\n",
    "We have two types of boolean expressions: the ones with the comparsion operators (`<`,`>`, `<=`, `=>`, and so on) and the ones with the boolean operators - `and`, `or`, `not`\n",
    "\n",
    "\n",
    "Let's see an example of how boolean operators can help us make decision\n",
    "\n"
   ]
  },
  {
   "cell_type": "code",
   "execution_count": 1,
   "metadata": {},
   "outputs": [
    {
     "name": "stdout",
     "output_type": "stream",
     "text": [
      "10\n"
     ]
    }
   ],
   "source": [
    "x: int =2\n",
    "y = x**2 +(3 *x)\n",
    "print(y)"
   ]
  },
  {
   "cell_type": "code",
   "execution_count": 8,
   "metadata": {},
   "outputs": [],
   "source": [
    "savory: bool = True\n",
    "sweet: bool = False\n",
    "spicy: bool = True\n",
    "crunchy: bool= True\n",
    "salty: bool=False"
   ]
  },
  {
   "cell_type": "code",
   "execution_count": 7,
   "metadata": {},
   "outputs": [
    {
     "name": "stdout",
     "output_type": "stream",
     "text": [
      "True\n"
     ]
    }
   ],
   "source": [
    "will_vj_like_it: bool = savory and (not sweet)\n",
    "\n",
    "print(will_vj_like_it)"
   ]
  },
  {
   "cell_type": "code",
   "execution_count": 12,
   "metadata": {},
   "outputs": [
    {
     "name": "stdout",
     "output_type": "stream",
     "text": [
      "True\n"
     ]
    }
   ],
   "source": [
    "will_patrick_like_it: bool = savory or sweet\n",
    "print(will_patrick_like_it)"
   ]
  },
  {
   "cell_type": "code",
   "execution_count": 4,
   "metadata": {},
   "outputs": [
    {
     "data": {
      "text/plain": [
       "True"
      ]
     },
     "execution_count": 4,
     "metadata": {},
     "output_type": "execute_result"
    }
   ],
   "source": [
    "sunny: bool = False\n",
    "not sunny"
   ]
  },
  {
   "cell_type": "code",
   "execution_count": null,
   "metadata": {},
   "outputs": [],
   "source": [
    "# Food preferences"
   ]
  },
  {
   "cell_type": "markdown",
   "metadata": {},
   "source": [
    "### Using Comparison Operators"
   ]
  },
  {
   "cell_type": "code",
   "execution_count": null,
   "metadata": {},
   "outputs": [],
   "source": [
    "my_number:int = 5"
   ]
  },
  {
   "cell_type": "code",
   "execution_count": null,
   "metadata": {},
   "outputs": [],
   "source": [
    "# Pick an even number less than 10\n",
    "my_number < 10 and my_number % 2 == 0\n",
    "\n",
    "# Pick an odd number less than 15\n",
    "\n",
    "\n",
    "# Pick a number upto 15 and divisible by 3\n"
   ]
  },
  {
   "cell_type": "markdown",
   "metadata": {},
   "source": [
    "## Making computation based on decisions"
   ]
  },
  {
   "cell_type": "code",
   "execution_count": 26,
   "metadata": {},
   "outputs": [],
   "source": [
    "new_food: str = \"pho\"\n",
    "savory: bool = True\n",
    "sweet: bool = False\n",
    "spicy: bool\n",
    "crunchy: bool\n",
    "salty: bool"
   ]
  },
  {
   "cell_type": "code",
   "execution_count": 28,
   "metadata": {},
   "outputs": [
    {
     "name": "stdout",
     "output_type": "stream",
     "text": [
      "Yay, VJ likes pho\n"
     ]
    }
   ],
   "source": [
    "vj_likes_it: bool = savory and (not sweet)\n",
    "\n",
    "if (vj_likes_it):\n",
    "    print(\"Yay, VJ likes \" + new_food)"
   ]
  },
  {
   "cell_type": "code",
   "execution_count": 29,
   "metadata": {},
   "outputs": [
    {
     "name": "stdout",
     "output_type": "stream",
     "text": [
      "Yay, VJ likes pho\n"
     ]
    }
   ],
   "source": [
    "if (vj_likes_it):\n",
    "    print(\"Yay, VJ likes \" + new_food)\n",
    "else:\n",
    "    print(\"Oh no, we should have given you, Pizza\")"
   ]
  },
  {
   "cell_type": "code",
   "execution_count": 30,
   "metadata": {},
   "outputs": [
    {
     "name": "stdout",
     "output_type": "stream",
     "text": [
      "Yay, VJ likes pho\n"
     ]
    }
   ],
   "source": [
    "if (vj_likes_it):\n",
    "    print(\"Yay, VJ likes \" + new_food)\n",
    "elif ():\n",
    "    print(\"Yay, \")\n",
    "else:\n",
    "    print(\"Oh no, we should have given you, Pizza\")"
   ]
  },
  {
   "cell_type": "code",
   "execution_count": null,
   "metadata": {},
   "outputs": [],
   "source": [
    "# Someone else's food preferences\n"
   ]
  },
  {
   "cell_type": "code",
   "execution_count": 43,
   "metadata": {},
   "outputs": [
    {
     "name": "stdout",
     "output_type": "stream",
     "text": [
      "Hey lol is not a valid day\n"
     ]
    }
   ],
   "source": [
    "# Scenario 1: I am in Waterville on M/W/F, otherwise in Orono\n",
    "day_of_week: str ='lol'\n",
    "\n",
    "if (day_of_week == 'T' or day_of_week == 'TH'):\n",
    "    if(day_of_week == 'T'):\n",
    "        day_of_week = \"Tuesday\"\n",
    "    elif(day_of_week == 'TH'):\n",
    "        day_of_week =\"Thursday\"\n",
    "    print(\"So you were in Orono on \" + day_of_week)\n",
    "elif(day_of_week==\"S\" or day_of_week==\"Sa\" or day_of_week ==\"W\"):\n",
    "    print(\"So you were in Waterville on \" + day_of_week)\n",
    "else:\n",
    "    print(\"Hey \"+ day_of_week + \" is not a valid day\")\n",
    "    \n"
   ]
  },
  {
   "cell_type": "code",
   "execution_count": null,
   "metadata": {},
   "outputs": [],
   "source": [
    "# Scenario 2: Between January - April, you are in Texas, Between May - October in Maine, \n",
    "# and rest of the time in California\n",
    "# Assume `month` is an integer where 1 indicates January and 12 indicates December\n",
    "month: int\n",
    "\n",
    "\n",
    "# EXERCISE: \n",
    "# 1. Ask user to enter a number between 1 and 12\n",
    "# 2. Create if-else statements to print where you were based on the month. "
   ]
  },
  {
   "cell_type": "code",
   "execution_count": null,
   "metadata": {},
   "outputs": [],
   "source": [
    "# Scenario 3: Tell if a user is of the driving age or not. If he can drive, ask him about his dream car. \n",
    "# else, tell him the number of years before he can start driving.\n"
   ]
  },
  {
   "cell_type": "markdown",
   "metadata": {},
   "source": [
    "The above syntax is known as `if`-`else` statements. \n",
    "\n",
    "The syntax for just `if` statement is as follows:\n",
    "\n",
    "```python\n",
    "\n",
    "if (boolean_expression):\n",
    "    code_block\n",
    "```\n",
    "\n",
    "The `code_block` will only run when the `boolean_expression` is evaluated to `True`. Otherwise it will go on to the next step.\n",
    "\n",
    "In case `boolean_expression` evaluates to `False`, you want to be prepared to handle this scenario, which is why we have `else` condition. When `boolean_expression` evaluates to `False`, we run `code_block_2`\n",
    "\n",
    "```python\n",
    "if (boolean_expression):\n",
    "    code_block_1\n",
    "else:\n",
    "    code_block_2\n",
    "```\n",
    "\n",
    "In other cases, we can have three different outcomes, which is where `else-if` or `elif` comes in.\n",
    "\n",
    "```python\n",
    "if (boolean_expression_1):\n",
    "    code_block_1\n",
    "elif (booolean_expression_2):\n",
    "    code_block_2\n",
    "else:\n",
    "    code_block_3\n",
    "```\n",
    "\n",
    "In case `boolean_expression_1` evaluates to `False`, Python evaluates `boolean_expression_2`, if that evaluates to `True`, we run `code_block_2`. If `boolean_expression_2` also evaluates to `False`, then we run `code_block_3`\n",
    "\n",
    "\n",
    "\n",
    "\n",
    "\n"
   ]
  },
  {
   "cell_type": "markdown",
   "metadata": {},
   "source": [
    "## Running code in `.py` files\n",
    "\n",
    "1. Create a new file\n",
    "2. Paste some of the code from one of the earlier block.\n",
    "3. Save the file in this folder and name it to your liking. Make sure the file name ends with `.py`\n",
    "4. From the menu bar in VS Code click on Terminal > New Terminal.\n",
    "5. Type `python3 <filename>.py`. Example, if your filename is `foo.py`, type `python3 foo.py`"
   ]
  }
 ],
 "metadata": {
  "kernelspec": {
   "display_name": "Python 3",
   "language": "python",
   "name": "python3"
  },
  "language_info": {
   "codemirror_mode": {
    "name": "ipython",
    "version": 3
   },
   "file_extension": ".py",
   "mimetype": "text/x-python",
   "name": "python",
   "nbconvert_exporter": "python",
   "pygments_lexer": "ipython3",
   "version": "3.12.6"
  }
 },
 "nbformat": 4,
 "nbformat_minor": 2
}
